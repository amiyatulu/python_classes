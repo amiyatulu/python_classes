{
 "cells": [
  {
   "cell_type": "code",
   "execution_count": 2,
   "metadata": {
    "collapsed": false
   },
   "outputs": [
    {
     "name": "stdout",
     "output_type": "stream",
     "text": [
      "2016 Tesla Model S\n"
     ]
    }
   ],
   "source": [
    "class Car():\n",
    "    \"\"\" A simple attempt to represent a car.\"\"\"\n",
    "    \n",
    "    def __init__(self,make,model,year):\n",
    "        self.make = make\n",
    "        self.model = model\n",
    "        self.year = year\n",
    "        self.odometer_reading = 0\n",
    "        \n",
    "    def get_descriptive_name(self):\n",
    "        long_name = str(self.year) + ' ' + self.make + ' ' + self.model\n",
    "        return long_name.title()\n",
    "    \n",
    "    def read_odometer(self):\n",
    "        print(\"This car has\" + str(self.odometer_reading) + \"miles on it.\")\n",
    "              \n",
    "              \n",
    "    def update_odometer(self,mileage):\n",
    "        if mileage >= self.odometer_reading:\n",
    "              self.odometer_reading = mileage\n",
    "        else:\n",
    "              print(\"You can't roll back an odometer!\")\n",
    "              \n",
    "    def increment_odometer(self,miles):\n",
    "        self.odometer_reading += miles\n",
    "              \n",
    "              \n",
    "class ElectricCar(Car):\n",
    "    \"\"\"Represent aspect of a car, specfic to electric vechicles.\"\"\"\n",
    "    \n",
    "    def __init__(self,make,model,year):\n",
    "        \"\"\"Initalize attributes of the parent class.\"\"\"\n",
    "        super().__init__(make,model,year)\n",
    "              \n",
    "              \n",
    "my_tesla = ElectricCar('tesla','model s',2016)\n",
    "print(my_tesla.get_descriptive_name())                    "
   ]
  },
  {
   "cell_type": "code",
   "execution_count": 11,
   "metadata": {
    "collapsed": false
   },
   "outputs": [
    {
     "name": "stdout",
     "output_type": "stream",
     "text": [
      "6\n",
      "12\n",
      "49\n",
      "98\n"
     ]
    }
   ],
   "source": [
    "class Rectangle():\n",
    "    \"\"\"rectangle\"\"\" \n",
    "    def __init__(self, length, breadth):\n",
    "        self.length=length\n",
    "        self.breadth=breadth\n",
    "    def findarea (self):\n",
    "        area = self.length*self.breadth\n",
    "        return area\n",
    "    def findperimeter (self):\n",
    "        perimeter = 2*(self.length * self.breadth)\n",
    "        return perimeter\n",
    "rectangl = Rectangle(2,3)\n",
    "a = rectangl.findarea()\n",
    "print(a)\n",
    "b = rectangl.findperimeter()\n",
    "print(b)\n",
    "\n",
    "\n",
    "class Square(Rectangle):\n",
    "    def __init__(self,length):\n",
    "        super().__init__(length,length)\n",
    "\n",
    "squ = Square(7)\n",
    "a = squ.findarea()\n",
    "print(a)\n",
    "b = squ.findperimeter()\n",
    "print(b)\n",
    "    "
   ]
  }
 ],
 "metadata": {
  "kernelspec": {
   "display_name": "Python 3",
   "language": "python",
   "name": "python3"
  },
  "language_info": {
   "codemirror_mode": {
    "name": "ipython",
    "version": 3
   },
   "file_extension": ".py",
   "mimetype": "text/x-python",
   "name": "python",
   "nbconvert_exporter": "python",
   "pygments_lexer": "ipython3",
   "version": "3.5.2+"
  }
 },
 "nbformat": 4,
 "nbformat_minor": 0
}
