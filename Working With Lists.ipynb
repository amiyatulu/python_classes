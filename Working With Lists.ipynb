{
 "cells": [
  {
   "cell_type": "code",
   "execution_count": 20,
   "metadata": {
    "collapsed": false
   },
   "outputs": [
    {
     "name": "stdout",
     "output_type": "stream",
     "text": [
      "Abc\n",
      "Suman\n"
     ]
    }
   ],
   "source": [
    "magicians = [\"abc\", \"suman\"]\n",
    "for mag in magicians:\n",
    "    print(mag.title())"
   ]
  },
  {
   "cell_type": "code",
   "execution_count": 16,
   "metadata": {
    "collapsed": false
   },
   "outputs": [
    {
     "name": "stdout",
     "output_type": "stream",
     "text": [
      "boook\n",
      "apple\n",
      "boook\n",
      "banana\n",
      "boook\n",
      "peach\n",
      "boook\n",
      "guava\n"
     ]
    }
   ],
   "source": [
    "fruits =[\"apple\",\"banana\",\"peach\",\"guava\"]\n",
    "for selling in fruits:\n",
    "    print(\"boook\")\n",
    "    print(selling)"
   ]
  },
  {
   "cell_type": "code",
   "execution_count": 3,
   "metadata": {
    "collapsed": false
   },
   "outputs": [
    {
     "name": "stdout",
     "output_type": "stream",
     "text": [
      "hello\n",
      "bye\n",
      "hello\n",
      "bye\n",
      "hello\n",
      "bye\n",
      "hello\n",
      "bye\n",
      "hello\n",
      "bye\n",
      "hello\n",
      "bye\n",
      "hello\n",
      "bye\n",
      "hello\n",
      "bye\n",
      "hello\n",
      "bye\n"
     ]
    }
   ],
   "source": [
    "c = 1\n",
    "while(c < 10 ):\n",
    "    print(\"hello\")\n",
    "    c = c + 1\n",
    "    print(\"bye\")"
   ]
  },
  {
   "cell_type": "markdown",
   "metadata": {},
   "source": [
    "\n",
    "  "
   ]
  },
  {
   "cell_type": "code",
   "execution_count": 18,
   "metadata": {
    "collapsed": false
   },
   "outputs": [
    {
     "name": "stdout",
     "output_type": "stream",
     "text": [
      "KJ rawl\n",
      "rvdyard kipppplying\n",
      "kali das\n",
      "insten\n",
      "rs agrawal\n"
     ]
    }
   ],
   "source": [
    "authors = [\"KJ rawl\", \"rvdyard kipppplying\", \"kali das\", \"insten\", \"rs agrawal\"]\n",
    "for providing in authors:\n",
    "    print (providing)\n",
    "    "
   ]
  }
 ],
 "metadata": {
  "kernelspec": {
   "display_name": "Python 3",
   "language": "python",
   "name": "python3"
  },
  "language_info": {
   "codemirror_mode": {
    "name": "ipython",
    "version": 3
   },
   "file_extension": ".py",
   "mimetype": "text/x-python",
   "name": "python",
   "nbconvert_exporter": "python",
   "pygments_lexer": "ipython3",
   "version": "3.5.2"
  }
 },
 "nbformat": 4,
 "nbformat_minor": 0
}
