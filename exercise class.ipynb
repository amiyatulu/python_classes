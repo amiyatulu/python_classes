{
 "cells": [
  {
   "cell_type": "code",
   "execution_count": 3,
   "metadata": {
    "collapsed": false
   },
   "outputs": [
    {
     "name": "stdout",
     "output_type": "stream",
     "text": [
      "Ind India 100340000000000 100736 996068932.6556544\n",
      "highly populated city\n"
     ]
    }
   ],
   "source": [
    "class City():\n",
    "    \"\"\"A simple attempt to represent a city.\"\"\"\n",
    "    \n",
    "    def __init__(self):\n",
    "        self.Ccode = \"\"\n",
    "        self.Cname = \"\" \n",
    "        self.Pop = 0\n",
    "        self.KM = 0\n",
    "        self.Density = 0 \n",
    "        \n",
    "    def DenCal(self):\n",
    "        self.Density = self.Pop/self.KM\n",
    "    def Record(self,Ccode,Cname,Pop,KM):\n",
    "        self.Ccode = Ccode\n",
    "        self.Cname = Cname\n",
    "        self.Pop = Pop\n",
    "        self.KM = KM\n",
    "        self.DenCal()\n",
    "    def View(self):\n",
    "        print(self.Ccode,self.Cname,self.Pop,self.KM,self.Density)\n",
    "        if(self.Density > 1000):\n",
    "             print(\"highly populated city\")\n",
    "obj = City()\n",
    "obj.Record(\"Ind\",\"India\",100340000000000,100736)\n",
    "obj.View()\n",
    " \n",
    "\n",
    "        "
   ]
  }
 ],
 "metadata": {
  "kernelspec": {
   "display_name": "Python 3",
   "language": "python",
   "name": "python3"
  },
  "language_info": {
   "codemirror_mode": {
    "name": "ipython",
    "version": 3
   },
   "file_extension": ".py",
   "mimetype": "text/x-python",
   "name": "python",
   "nbconvert_exporter": "python",
   "pygments_lexer": "ipython3",
   "version": "3.5.2+"
  }
 },
 "nbformat": 4,
 "nbformat_minor": 0
}
