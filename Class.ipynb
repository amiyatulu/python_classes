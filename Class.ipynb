{
 "cells": [
  {
   "cell_type": "code",
   "execution_count": 12,
   "metadata": {
    "collapsed": false,
    "deletable": true,
    "editable": true
   },
   "outputs": [
    {
     "name": "stdout",
     "output_type": "stream",
     "text": [
      "9\n",
      "willly\n",
      "Willly is now sitting.\n",
      "Willly rolled over!\n",
      "Pamegrian is now sitting.\n",
      "Pamegrian rolled over!\n"
     ]
    }
   ],
   "source": [
    "class Dog():\n",
    "    '''A simple attempt to model a dog.'''\n",
    "    \n",
    "    def __init__(self,name,age):\n",
    "        \"\"\"Initialize name and age attributes.\"\"\"\n",
    "        self.name = name\n",
    "        self.age = age\n",
    "        \n",
    "    def sit(self):\n",
    "        \"\"\"simulate a dog sitting in response to a command.\"\"\"\n",
    "        print(self.name.title()+\" is now sitting.\")\n",
    "        \n",
    "    def roll_over(self):\n",
    "        \"\"\"simulate rolling over in response to a command.\"\"\"\n",
    "        print(self.name.title()+\" rolled over!\")\n",
    "        \n",
    "my_dog = Dog(\"willly\",9)\n",
    "print(my_dog.age)\n",
    "print(my_dog.name)\n",
    "my_dog.sit() \n",
    "my_dog.roll_over()\n",
    "\n",
    "my_dog2 = Dog(\"Pamegrian\", 2)\n",
    "my_dog2.sit()\n",
    "my_dog2.roll_over()\n",
    "\n"
   ]
  },
  {
   "cell_type": "code",
   "execution_count": 7,
   "metadata": {
    "collapsed": false,
    "deletable": true,
    "editable": true
   },
   "outputs": [
    {
     "data": {
      "text/plain": [
       "'A simple attempt to model a dog.'"
      ]
     },
     "execution_count": 7,
     "metadata": {},
     "output_type": "execute_result"
    }
   ],
   "source": [
    "Dog.__doc__"
   ]
  },
  {
   "cell_type": "code",
   "execution_count": 4,
   "metadata": {
    "collapsed": false,
    "deletable": true,
    "editable": true
   },
   "outputs": [
    {
     "name": "stdout",
     "output_type": "stream",
     "text": [
      "sakti\n",
      "pizza\n",
      "sakti pizza\n",
      "the resturant is open\n"
     ]
    }
   ],
   "source": [
    "class Resturant():\n",
    "    \"\"\"A simple attempt to model a resturant.\"\"\"\n",
    "    \n",
    "    def __init__(self,name,cuisine):\n",
    "        \"\"\"Initialize name and cuisine attributes.\"\"\"\n",
    "        self.name = name\n",
    "        self.cuisine = cuisine\n",
    "    def describe_resturant(self):\n",
    "        \"\"\"Print name and cuisine.\"\"\"\n",
    "        print(self.name,self.cuisine)\n",
    "    def open_resturant(self):\n",
    "        \"\"\"print whether a resturant is open.\"\"\"\n",
    "        print(\"the resturant is open\")\n",
    "           \n",
    "            \n",
    "my_hotel = Resturant(\"sakti\",\"pizza\")\n",
    "print(my_hotel.name)\n",
    "print(my_hotel.cuisine)\n",
    "my_hotel.describe_resturant()\n",
    "my_hotel.open_resturant()"
   ]
  },
  {
   "cell_type": "code",
   "execution_count": 2,
   "metadata": {
    "collapsed": false,
    "deletable": true,
    "editable": true
   },
   "outputs": [
    {
     "name": "stdout",
     "output_type": "stream",
     "text": [
      "suman sourav kalpana 9\n",
      "hello how are you\n",
      "sachin kousik rajmahal 7\n",
      "hii you are fin\n"
     ]
    }
   ],
   "source": [
    "class User():\n",
    "    \"\"\"A simple attempt to model a user.\"\"\"\n",
    "    \n",
    "    def __init__(self,first,last,addres,age,greeting):\n",
    "        \"\"\"Initalize first last addres age greeting attributes.\"\"\"\n",
    "        self.first_name = first\n",
    "        self.last_name = last\n",
    "        self.address = addres\n",
    "        self.age = age\n",
    "        self.greeting = greeting\n",
    "        \n",
    "    def describe_user(self):\n",
    "        \"\"\"print user profile.\"\"\"\n",
    "        print(self.first_name,self.last_name,self.address,self.age)\n",
    "        \n",
    "    def greet_user(self):\n",
    "        \"\"\"print personalize greeting.\"\"\"\n",
    "        print(self.greeting)\n",
    "\n",
    "        \n",
    "user_1 = User(\"suman\",\"sourav\",\"kalpana\",9,\"hello how are you\")\n",
    "user_1.describe_user()\n",
    "user_1.greet_user()\n",
    "user_2 = User(\"sachin\",\"kousik\",\"rajmahal\",7,\"hii you are fin\")\n",
    "user_2.describe_user()\n",
    "user_2.greet_user()\n",
    "    "
   ]
  }
 ],
 "metadata": {
  "kernelspec": {
   "display_name": "Python 3",
   "language": "python",
   "name": "python3"
  },
  "language_info": {
   "codemirror_mode": {
    "name": "ipython",
    "version": 3
   },
   "file_extension": ".py",
   "mimetype": "text/x-python",
   "name": "python",
   "nbconvert_exporter": "python",
   "pygments_lexer": "ipython3",
   "version": "3.5.2"
  }
 },
 "nbformat": 4,
 "nbformat_minor": 0
}
