{
 "cells": [
  {
   "cell_type": "code",
   "execution_count": 7,
   "metadata": {
    "collapsed": false
   },
   "outputs": [
    {
     "name": "stdout",
     "output_type": "stream",
     "text": [
      "1386\n",
      "150\n"
     ]
    }
   ],
   "source": [
    "class rectangle():\n",
    "    \"\"\"a simple attempt to represent a rectangle.\"\"\"\n",
    "    def __init__(self,length,breath):\n",
    "        self.length = length\n",
    "        self.breath = breath\n",
    "    def findarea(self):\n",
    "        area = self.length * self.breath\n",
    "        return area\n",
    "    def findperimeter(self):\n",
    "        perimeter = 2 *(self.length + self.breath)\n",
    "        return perimeter\n",
    "rect = rectangle(42,33)\n",
    "area = rect.findarea()\n",
    "print(area)\n",
    "peri = rect.findperimeter()\n",
    "print(peri)            "
   ]
  }
 ],
 "metadata": {
  "kernelspec": {
   "display_name": "Python 3",
   "language": "python",
   "name": "python3"
  },
  "language_info": {
   "codemirror_mode": {
    "name": "ipython",
    "version": 3
   },
   "file_extension": ".py",
   "mimetype": "text/x-python",
   "name": "python",
   "nbconvert_exporter": "python",
   "pygments_lexer": "ipython3",
   "version": "3.5.2+"
  }
 },
 "nbformat": 4,
 "nbformat_minor": 0
}
