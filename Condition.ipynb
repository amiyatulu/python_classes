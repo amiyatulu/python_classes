{
 "cells": [
  {
   "cell_type": "code",
   "execution_count": 3,
   "metadata": {
    "collapsed": false
   },
   "outputs": [
    {
     "name": "stdout",
     "output_type": "stream",
     "text": [
      "Marie, you can post a response if you wish.\n"
     ]
    }
   ],
   "source": [
    "banned_users = [\"andrew\",\"carolina\",\"david\"]\n",
    "user = \"marie\"\n",
    "\n",
    "if user not in banned_users:\n",
    "    print(user.title() + \", you can post a response if you wish.\")\n",
    "    "
   ]
  },
  {
   "cell_type": "code",
   "execution_count": 6,
   "metadata": {
    "collapsed": false
   },
   "outputs": [
    {
     "name": "stdout",
     "output_type": "stream",
     "text": [
      "you are old enough to vote!\n",
      "have you registered to vote yet?\n"
     ]
    }
   ],
   "source": [
    "age = 19\n",
    "if age >= 18:\n",
    "    print(\"you are old enough to vote!\")\n",
    "    print(\"have you registered to vote yet?\")"
   ]
  },
  {
   "cell_type": "code",
   "execution_count": 5,
   "metadata": {
    "collapsed": false
   },
   "outputs": [
    {
     "name": "stdout",
     "output_type": "stream",
     "text": [
      "your admission cost is $5.\n"
     ]
    }
   ],
   "source": [
    "age = 12\n",
    "\n",
    "if age < 4:\n",
    "    price = 0\n",
    "elif age < 18:\n",
    "    price = 5\n",
    "else:\n",
    "    price = 10\n",
    "    \n",
    "    \n",
    "print(\"your admission cost is $\" + str(price) + \".\")"
   ]
  },
  {
   "cell_type": "code",
   "execution_count": 6,
   "metadata": {
    "collapsed": false
   },
   "outputs": [
    {
     "name": "stdout",
     "output_type": "stream",
     "text": [
      "your admission cost $5.\n"
     ]
    }
   ],
   "source": [
    "age = 12\n",
    "\n",
    "if age < 4:\n",
    "    price = 0\n",
    "elif age < 18:\n",
    "    price = 5\n",
    "elif age < 65:\n",
    "    price = 10\n",
    "else:\n",
    "    price = 5\n",
    "print(\"your admission cost $\" + str(price) + \".\")"
   ]
  },
  {
   "cell_type": "code",
   "execution_count": 35,
   "metadata": {
    "collapsed": false
   },
   "outputs": [
    {
     "name": "stdout",
     "output_type": "stream",
     "text": [
      "Add mushrooms.\n",
      "adding bad cheese.\n",
      "xyz\n",
      "5\n",
      "39\n"
     ]
    }
   ],
   "source": [
    "requested_toppings = [\"mushrooms\",\"extra cheese\"]\n",
    "kumar = \"xyz\"\n",
    "suman = 7\n",
    "if \"mushrooms\" in requested_toppings:\n",
    "    print(\"Add mushrooms.\")\n",
    "    suman = 5\n",
    "if \"pepperoni\" in requested_toppings:\n",
    "    print(\"adding pepperoni.\")\n",
    "    kumar = 89\n",
    "if \"extra cheese\" in requested_toppings:\n",
    "    print(\"adding bad cheese.\")\n",
    "    kartik = 39\n",
    "\n",
    "print(kumar)\n",
    "print(suman)\n",
    "\n",
    "print(kartik) "
   ]
  },
  {
   "cell_type": "code",
   "execution_count": 40,
   "metadata": {
    "collapsed": false
   },
   "outputs": [
    {
     "name": "stdout",
     "output_type": "stream",
     "text": [
      "you have erned 5 points\n"
     ]
    }
   ],
   "source": [
    "alien_colour = \"green\"\n",
    "if alien_colour == \"green\":\n",
    "    print(\"you have erned 5 points\")\n",
    "\n"
   ]
  },
  {
   "cell_type": "code",
   "execution_count": 44,
   "metadata": {
    "collapsed": false
   },
   "outputs": [
    {
     "name": "stdout",
     "output_type": "stream",
     "text": [
      "election\n"
     ]
    }
   ],
   "source": [
    "ministers = [\"prativa patel\",\"narendra modi\",'lalu yadap',\"mahatma gandhi\"]\n",
    "if \"kazerival\" in ministers:\n",
    "    print(\"kazerival\")\n",
    "elif \"prativa patel\" in ministers:\n",
    "    print(\"election\")\n"
   ]
  },
  {
   "cell_type": "code",
   "execution_count": 11,
   "metadata": {
    "collapsed": false
   },
   "outputs": [
    {
     "name": "stdout",
     "output_type": "stream",
     "text": [
      "the player just earned 10 points \n"
     ]
    }
   ],
   "source": [
    "alien = \"yellow\"\n",
    "if alien == \"green\":\n",
    "    print(\"the players just earned 5 points for shooting the alien\")\n",
    "if alien != \"green\":\n",
    "    print(\"the player just earned 10 points \")"
   ]
  },
  {
   "cell_type": "code",
   "execution_count": 13,
   "metadata": {
    "collapsed": false
   },
   "outputs": [
    {
     "name": "stdout",
     "output_type": "stream",
     "text": [
      "the player just earned 10 points\n"
     ]
    }
   ],
   "source": [
    "alien = \"red\"\n",
    "if alien == \"green\":\n",
    "    print(\"the players just earned 5 points for shooting the alien\")\n",
    "else:\n",
    "    print(\"the player just earned 10 points\")"
   ]
  }
 ],
 "metadata": {
  "kernelspec": {
   "display_name": "Python 3",
   "language": "python",
   "name": "python3"
  },
  "language_info": {
   "codemirror_mode": {
    "name": "ipython",
    "version": 3
   },
   "file_extension": ".py",
   "mimetype": "text/x-python",
   "name": "python",
   "nbconvert_exporter": "python",
   "pygments_lexer": "ipython3",
   "version": "3.5.2"
  }
 },
 "nbformat": 4,
 "nbformat_minor": 0
}
