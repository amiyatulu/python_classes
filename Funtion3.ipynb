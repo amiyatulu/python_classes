{
 "cells": [
  {
   "cell_type": "code",
   "execution_count": 1,
   "metadata": {
    "collapsed": false
   },
   "outputs": [
    {
     "name": "stdout",
     "output_type": "stream",
     "text": [
      "hello Gupta!\n"
     ]
    }
   ],
   "source": [
    "def greet_user(username):\n",
    "    \"\"\"display a simple name.\"\"\"\n",
    "    print (\"hello\",username.title()+ \"!\")\n",
    "\n",
    "greet_user(\"gupta\")"
   ]
  },
  {
   "cell_type": "code",
   "execution_count": 3,
   "metadata": {
    "collapsed": false
   },
   "outputs": [
    {
     "name": "stdout",
     "output_type": "stream",
     "text": [
      "hello mamau ravi talkies odissa\n"
     ]
    }
   ],
   "source": [
    "def adress_plot(username,adress,state):\n",
    "    \"\"\"\"display your state n adress.\"\"\"\n",
    "    print (\"hello \" + username + \" \" + adress + \" \" + state)\n",
    "adress_plot(\"mamau\",\"ravi talkies\",\"odissa\")"
   ]
  },
  {
   "cell_type": "code",
   "execution_count": 10,
   "metadata": {
    "collapsed": false
   },
   "outputs": [
    {
     "name": "stdout",
     "output_type": "stream",
     "text": [
      "the multiplication no value is 2070\n"
     ]
    }
   ],
   "source": [
    "def multiply_2no(no1,no2):\n",
    "    \"\"\"multiplay the no\"\"\"\n",
    "    multi= no1*no2\n",
    "    print (\"the multiplication no value is \" + str(multi))\n",
    "    \n",
    "multiply_2no(45,46)"
   ]
  },
  {
   "cell_type": "code",
   "execution_count": 12,
   "metadata": {
    "collapsed": false
   },
   "outputs": [
    {
     "name": "stdout",
     "output_type": "stream",
     "text": [
      "2432\n"
     ]
    }
   ],
   "source": [
    "def multiply_2no(no1,no2):\n",
    "    \"\"\"multiplay the no\"\"\"\n",
    "    multi= no1*no2\n",
    "    return multi  \n",
    "value = multiply_2no(32,76)\n",
    "print (value)"
   ]
  }
 ],
 "metadata": {
  "kernelspec": {
   "display_name": "Python 3",
   "language": "python",
   "name": "python3"
  },
  "language_info": {
   "codemirror_mode": {
    "name": "ipython",
    "version": 3
   },
   "file_extension": ".py",
   "mimetype": "text/x-python",
   "name": "python",
   "nbconvert_exporter": "python",
   "pygments_lexer": "ipython3",
   "version": "3.5.2+"
  }
 },
 "nbformat": 4,
 "nbformat_minor": 0
}
