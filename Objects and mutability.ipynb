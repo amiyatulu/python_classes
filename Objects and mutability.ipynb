{
 "cells": [
  {
   "cell_type": "markdown",
   "metadata": {},
   "source": [
    "### Class and Objects\n",
    "\n",
    "Analogy:\n",
    "\n",
    "Man is a class  \n",
    "Sourav is an object (instance of Man)  \n",
    "Asutosh is an object (instance of Man)  \n",
    "\n",
    "Car is a class  \n",
    "Lamborghini is an object (instance of Car)  \n",
    "Ferrari is an object (instance of Car)  "
   ]
  },
  {
   "cell_type": "markdown",
   "metadata": {},
   "source": [
    "In Python, pretty much everything is an object, whether it is a number, a function… or even None.\n",
    "\n",
    "Every object has **an identity, a type and a value**. An object's identity never changes once it has been created, you may think of it as the object's address in memory.\n",
    "\n",
    "The **'is'** operator compares the identity of two objects.  \n",
    "id() function returns an integer representing its identity.\n",
    "\n",
    "\n",
    "The *value* of some objects can change. Objects whose value can change are said to be mutable.  \n",
    "Objects whose value is unchangeable once they are created are called immutable.\n",
    "\n",
    "\n",
    "\n",
    "An object's mutability is determined by its type.  \n",
    "Numbers, strings and tuples are immutable, while dictionaries and lists are mutable."
   ]
  }
 ],
 "metadata": {
  "kernelspec": {
   "display_name": "Python 3",
   "language": "python",
   "name": "python3"
  },
  "language_info": {
   "codemirror_mode": {
    "name": "ipython",
    "version": 3
   },
   "file_extension": ".py",
   "mimetype": "text/x-python",
   "name": "python",
   "nbconvert_exporter": "python",
   "pygments_lexer": "ipython3",
   "version": "3.5.2+"
  }
 },
 "nbformat": 4,
 "nbformat_minor": 0
}
