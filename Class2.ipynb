{
 "cells": [
  {
   "cell_type": "code",
   "execution_count": 3,
   "metadata": {
    "collapsed": false
   },
   "outputs": [
    {
     "name": "stdout",
     "output_type": "stream",
     "text": [
      "2016 Audi A4\n"
     ]
    }
   ],
   "source": [
    "class Car():\n",
    "    \"\"\"A simple attempt to represent a car.\"\"\"\n",
    "    \n",
    "    def __init__(self,make,model,year):\n",
    "        \"\"\"Initalize attributes to describe a car.\"\"\"\n",
    "        self.make = make\n",
    "        self.model = model\n",
    "        self.year = year\n",
    "        \n",
    "    def get_descriptive_name(self):\n",
    "        \"\"\"Return a neatly formatted descriptive name.\"\"\"\n",
    "        long_name = str(self.year) + ' ' + self.make + ' ' + self.model\n",
    "        return long_name.title()\n",
    "    \n",
    "my_new_car = Car('audi','a4',2016)\n",
    "print(my_new_car.get_descriptive_name())\n",
    "        "
   ]
  },
  {
   "cell_type": "code",
   "execution_count": 14,
   "metadata": {
    "collapsed": false
   },
   "outputs": [
    {
     "name": "stdout",
     "output_type": "stream",
     "text": [
      "100 # Python\n",
      "200 # Python\n",
      "300 # Made Easy\n",
      "105 # MadePython\n",
      "215 # EasyPython\n",
      "325 # Made EasyMade Easy\n"
     ]
    }
   ],
   "source": [
    "class Book():\n",
    "    \"\"\" A simple attempt to represent a book.\"\"\"\n",
    "    \n",
    "    def __init__(self,N=100,S=\"Python\"): #constructor\n",
    "        self.Bno=N\n",
    "        self.BName=S\n",
    "    def Assing (self,N,S):\n",
    "        self.Bno= self.Bno + N\n",
    "        self.BName= S + self.BName\n",
    "    def ShowVal(self):\n",
    "        print(self.Bno,\"#\",self.BName)\n",
    "s=Book()\n",
    "t=Book(200)\n",
    "u=Book(300,\"Made Easy\")\n",
    "s.ShowVal()\n",
    "t.ShowVal()\n",
    "u.ShowVal()\n",
    "s.Assing(5,\"Made\")\n",
    "s.ShowVal()\n",
    "t.Assing(15,\"Easy\")\n",
    "t.ShowVal()\n",
    "u.Assing(25,\"Made Easy\")\n",
    "u.ShowVal()"
   ]
  }
 ],
 "metadata": {
  "kernelspec": {
   "display_name": "Python 3",
   "language": "python",
   "name": "python3"
  },
  "language_info": {
   "codemirror_mode": {
    "name": "ipython",
    "version": 3
   },
   "file_extension": ".py",
   "mimetype": "text/x-python",
   "name": "python",
   "nbconvert_exporter": "python",
   "pygments_lexer": "ipython3",
   "version": "3.5.2+"
  }
 },
 "nbformat": 4,
 "nbformat_minor": 0
}
